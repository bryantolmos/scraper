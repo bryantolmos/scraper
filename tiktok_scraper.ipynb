{
 "cells": [
  {
   "attachments": {},
   "cell_type": "markdown",
   "metadata": {},
   "source": [
    "# TikTok Web Scraper - Bryant Olmos"
   ]
  },
  {
   "cell_type": "code",
   "execution_count": null,
   "metadata": {},
   "outputs": [],
   "source": [
    "import requests\n",
    "from bs4 import BeautifulSoup"
   ]
  },
  {
   "cell_type": "code",
   "execution_count": null,
   "metadata": {},
   "outputs": [],
   "source": [
    "url = \"https://www.tiktok.com/explore\"\n",
    "response = requests.get(url)\n",
    "soup = BeautifulSoup(response.text, 'html.parser')"
   ]
  },
  {
   "cell_type": "code",
   "execution_count": null,
   "metadata": {},
   "outputs": [],
   "source": [
    "video_data = {}\n",
    "temp_li = []"
   ]
  },
  {
   "cell_type": "code",
   "execution_count": null,
   "metadata": {},
   "outputs": [],
   "source": [
    "video_element = soup.find_all('div', attrs={'class' : 'tiktok-x6y88p-DivItemContainerV2 e19c29qe8'})\n",
    "\n",
    "for element in video_element:\n",
    "    link = (element.find('div', attrs={'class' : 'tiktok-1s72ajp-DivWrapper e1cg0wnj1'})).find('a')['href']\n",
    "    creator_name = element.find('p', attrs={'class' : 'tiktok-bd3whm-PUniqueId ewsiauk6'}).text\n",
    "    likes = element.find('strong', attrs={'class' : 'tiktok-8q3c8f-StrongVideoCount ewsiauk7'}).text\n",
    "    views = element.find('strong', attrs={'class' : 'tiktok-fjta3j-StrongVideoCount e19c29qe21'}).text\n",
    "\n",
    "    temp_li = [creator_name, views, likes]\n",
    "    video_data[link] = temp_li\n"
   ]
  },
  {
   "cell_type": "code",
   "execution_count": null,
   "metadata": {},
   "outputs": [],
   "source": [
    "key_length = max(len(key) for key in video_data)\n",
    "\n",
    "for key, value in video_data.items():\n",
    "    spacing = ' ' * (key_length - len(key))\n",
    "    print(f'{key} {spacing}: {value}')"
   ]
  },
  {
   "cell_type": "code",
   "execution_count": null,
   "metadata": {},
   "outputs": [],
   "source": []
  }
 ],
 "metadata": {
  "kernelspec": {
   "display_name": "Python 3",
   "language": "python",
   "name": "python3"
  },
  "language_info": {
   "codemirror_mode": {
    "name": "ipython",
    "version": 3
   },
   "file_extension": ".py",
   "mimetype": "text/x-python",
   "name": "python",
   "nbconvert_exporter": "python",
   "pygments_lexer": "ipython3",
   "version": "3.10.9"
  },
  "orig_nbformat": 4
 },
 "nbformat": 4,
 "nbformat_minor": 2
}
